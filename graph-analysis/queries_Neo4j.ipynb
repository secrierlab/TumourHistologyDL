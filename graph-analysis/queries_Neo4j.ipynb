{
 "cells": [
  {
   "cell_type": "markdown",
   "id": "electrical-solution",
   "metadata": {},
   "source": [
    "# Queries to to explore cellular organisation"
   ]
  },
  {
   "cell_type": "code",
   "execution_count": 1,
   "id": "union-monroe",
   "metadata": {},
   "outputs": [
    {
     "name": "stderr",
     "output_type": "stream",
     "text": [
      "Matplotlib created a temporary config/cache directory at /tmp/matplotlib-j1y0gi33 because the default path (/home/mario/.config/matplotlib) is not a writable directory; it is highly recommended to set the MPLCONFIGDIR environment variable to a writable directory, in particular to speed up the import of Matplotlib and to better support multiprocessing.\n"
     ]
    }
   ],
   "source": [
    "from py2neo import Graph, Node, Relationship\n",
    "import pandas as pd\n",
    "import seaborn as sns\n",
    "import matplotlib.pyplot as plt\n",
    "%matplotlib inline\n",
    "import numpy as np\n",
    "from statsmodels.stats import weightstats as stests\n",
    "import scipy.stats"
   ]
  },
  {
   "cell_type": "code",
   "execution_count": 2,
   "id": "directed-richards",
   "metadata": {},
   "outputs": [],
   "source": [
    "# establishing connection with the database\n",
    "\n",
    "graphHost='localhost'\n",
    "graphUser = \"neo4j\"\n",
    "graphPassphrase = \"admin\"\n",
    "\n",
    "graph=Graph(bolt=True, host=graphHost, user=graphUser, password=graphPassphrase)\n",
    "\n"
   ]
  },
  {
   "cell_type": "code",
   "execution_count": 3,
   "id": "angry-rings",
   "metadata": {},
   "outputs": [],
   "source": [
    "# scale to show statical significance difference\n",
    "def stars(p):\n",
    "   if p < 0.0001:\n",
    "       return \"****\"\n",
    "   elif (p < 0.001):\n",
    "       return \"***\"\n",
    "   elif (p < 0.01):\n",
    "       return \"**\"\n",
    "   elif (p < 0.05):\n",
    "       return \"*\"\n",
    "   else:\n",
    "       return \"-\""
   ]
  },
  {
   "cell_type": "markdown",
   "id": "useful-protection",
   "metadata": {},
   "source": [
    "# count number of cells"
   ]
  },
  {
   "cell_type": "markdown",
   "id": "higher-gentleman",
   "metadata": {},
   "source": [
    "### count total number of cells by slide"
   ]
  },
  {
   "cell_type": "code",
   "execution_count": 87,
   "id": "dress-emission",
   "metadata": {},
   "outputs": [
    {
     "data": {
      "text/plain": [
       "Text(0, 0.5, 'Frequency')"
      ]
     },
     "execution_count": 87,
     "metadata": {},
     "output_type": "execute_result"
    },
    {
     "data": {
      "image/png": "[encoded data removed]",
      "text/plain": [
       "<Figure size 432x288 with 1 Axes>"
      ]
     },
     "metadata": {
      "needs_background": "light"
     },
     "output_type": "display_data"
    }
   ],
   "source": [
    "query=graph.run('MATCH (n)'\n",
    "              'RETURN DISTINCT n.sample, '\n",
    "              'count(*) AS SampleSize')\n",
    "\n",
    "result_query=[]\n",
    "for i in query:\n",
    "\n",
    "    result_query.append(i)\n",
    "\n",
    "\n",
    "df=pd.DataFrame(result_query)\n",
    "df.columns=['sample','count']\n",
    "\n",
    "cell_count_dic=pd.Series(df['count'].values,index=df['sample']).to_dict()\n",
    "\n",
    "plt.hist(df['count'].values, bins = 20)\n",
    "plt.xlabel('number of cells by WSI')\n",
    "plt.ylabel('Frequency')\n",
    "\n",
    "\n",
    "\n"
   ]
  },
  {
   "cell_type": "markdown",
   "id": "greenhouse-addiction",
   "metadata": {},
   "source": [
    "### count total number of cells  for each the slides"
   ]
  },
  {
   "cell_type": "code",
   "execution_count": 18,
   "id": "satisfactory-drove",
   "metadata": {},
   "outputs": [
    {
     "data": {
      "text/html": [
       "<div>\n",
       "<style scoped>\n",
       "    .dataframe tbody tr th:only-of-type {\n",
       "        vertical-align: middle;\n",
       "    }\n",
       "\n",
       "    .dataframe tbody tr th {\n",
       "        vertical-align: top;\n",
       "    }\n",
       "\n",
       "    .dataframe thead th {\n",
       "        text-align: right;\n",
       "    }\n",
       "</style>\n",
       "<table border=\"1\" class=\"dataframe\">\n",
       "  <thead>\n",
       "    <tr style=\"text-align: right;\">\n",
       "      <th></th>\n",
       "      <th>sample</th>\n",
       "      <th>cells_count</th>\n",
       "      <th>Avg_RelationshipCount</th>\n",
       "      <th>Min_RelationshipCount</th>\n",
       "      <th>Max_RelationshipCount</th>\n",
       "      <th>label</th>\n",
       "    </tr>\n",
       "  </thead>\n",
       "  <tbody>\n",
       "    <tr>\n",
       "      <th>0</th>\n",
       "      <td>test_TCGA-AA-3518-01A-01-BS1</td>\n",
       "      <td>43732</td>\n",
       "      <td>2.633266</td>\n",
       "      <td>0</td>\n",
       "      <td>17</td>\n",
       "      <td>1</td>\n",
       "    </tr>\n",
       "    <tr>\n",
       "      <th>1</th>\n",
       "      <td>test_TCGA-AA-3815-01A-01-BS1</td>\n",
       "      <td>46496</td>\n",
       "      <td>2.551058</td>\n",
       "      <td>0</td>\n",
       "      <td>14</td>\n",
       "      <td>1</td>\n",
       "    </tr>\n",
       "    <tr>\n",
       "      <th>2</th>\n",
       "      <td>test_TCGA-CM-6172-01A-01-BS1</td>\n",
       "      <td>56905</td>\n",
       "      <td>2.996679</td>\n",
       "      <td>0</td>\n",
       "      <td>16</td>\n",
       "      <td>1</td>\n",
       "    </tr>\n",
       "    <tr>\n",
       "      <th>3</th>\n",
       "      <td>test_TCGA-CK-6748-01A-01-TS1</td>\n",
       "      <td>5950</td>\n",
       "      <td>1.208067</td>\n",
       "      <td>0</td>\n",
       "      <td>9</td>\n",
       "      <td>1</td>\n",
       "    </tr>\n",
       "    <tr>\n",
       "      <th>4</th>\n",
       "      <td>test_TCGA-CM-5863-01A-01-BS1</td>\n",
       "      <td>20526</td>\n",
       "      <td>1.812823</td>\n",
       "      <td>0</td>\n",
       "      <td>12</td>\n",
       "      <td>1</td>\n",
       "    </tr>\n",
       "    <tr>\n",
       "      <th>...</th>\n",
       "      <td>...</td>\n",
       "      <td>...</td>\n",
       "      <td>...</td>\n",
       "      <td>...</td>\n",
       "      <td>...</td>\n",
       "      <td>...</td>\n",
       "    </tr>\n",
       "    <tr>\n",
       "      <th>105</th>\n",
       "      <td>test_TCGA-AA-A00W-01A-01-BS1</td>\n",
       "      <td>2385</td>\n",
       "      <td>2.195388</td>\n",
       "      <td>0</td>\n",
       "      <td>12</td>\n",
       "      <td>0</td>\n",
       "    </tr>\n",
       "    <tr>\n",
       "      <th>106</th>\n",
       "      <td>train_TCGA-CM-6676-01A-01-TS1</td>\n",
       "      <td>102764</td>\n",
       "      <td>3.586762</td>\n",
       "      <td>0</td>\n",
       "      <td>15</td>\n",
       "      <td>0</td>\n",
       "    </tr>\n",
       "    <tr>\n",
       "      <th>107</th>\n",
       "      <td>valid_TCGA-CM-6675-01A-01-TS1</td>\n",
       "      <td>114041</td>\n",
       "      <td>3.337309</td>\n",
       "      <td>0</td>\n",
       "      <td>15</td>\n",
       "      <td>0</td>\n",
       "    </tr>\n",
       "    <tr>\n",
       "      <th>108</th>\n",
       "      <td>valid_TCGA-CM-6675-01A-01-BS1</td>\n",
       "      <td>91462</td>\n",
       "      <td>1.924603</td>\n",
       "      <td>0</td>\n",
       "      <td>16</td>\n",
       "      <td>0</td>\n",
       "    </tr>\n",
       "    <tr>\n",
       "      <th>109</th>\n",
       "      <td>train_TCGA-CM-6676-01A-01-BS1</td>\n",
       "      <td>36769</td>\n",
       "      <td>2.278822</td>\n",
       "      <td>0</td>\n",
       "      <td>11</td>\n",
       "      <td>0</td>\n",
       "    </tr>\n",
       "  </tbody>\n",
       "</table>\n",
       "<p>110 rows × 6 columns</p>\n",
       "</div>"
      ],
      "text/plain": [
       "                            sample  cells_count  Avg_RelationshipCount  \\\n",
       "0     test_TCGA-AA-3518-01A-01-BS1        43732               2.633266   \n",
       "1     test_TCGA-AA-3815-01A-01-BS1        46496               2.551058   \n",
       "2     test_TCGA-CM-6172-01A-01-BS1        56905               2.996679   \n",
       "3     test_TCGA-CK-6748-01A-01-TS1         5950               1.208067   \n",
       "4     test_TCGA-CM-5863-01A-01-BS1        20526               1.812823   \n",
       "..                             ...          ...                    ...   \n",
       "105   test_TCGA-AA-A00W-01A-01-BS1         2385               2.195388   \n",
       "106  train_TCGA-CM-6676-01A-01-TS1       102764               3.586762   \n",
       "107  valid_TCGA-CM-6675-01A-01-TS1       114041               3.337309   \n",
       "108  valid_TCGA-CM-6675-01A-01-BS1        91462               1.924603   \n",
       "109  train_TCGA-CM-6676-01A-01-BS1        36769               2.278822   \n",
       "\n",
       "     Min_RelationshipCount  Max_RelationshipCount  label  \n",
       "0                        0                     17      1  \n",
       "1                        0                     14      1  \n",
       "2                        0                     16      1  \n",
       "3                        0                      9      1  \n",
       "4                        0                     12      1  \n",
       "..                     ...                    ...    ...  \n",
       "105                      0                     12      0  \n",
       "106                      0                     15      0  \n",
       "107                      0                     15      0  \n",
       "108                      0                     16      0  \n",
       "109                      0                     11      0  \n",
       "\n",
       "[110 rows x 6 columns]"
      ]
     },
     "execution_count": 18,
     "metadata": {},
     "output_type": "execute_result"
    }
   ],
   "source": [
    "high_group_query=graph.run('MATCH (n {inmune039:1})'\n",
    "          'RETURN DISTINCT n.sample, '\n",
    "          'count(*) AS SampleSize,'\n",
    "          'avg(size( (n)-[]-() ) ) as Avg_RelationshipCount,'\n",
    "          'min(size( (n)-[]-() ) ) as Min_RelationshipCount,'\n",
    "          'max(size( (n)-[]-() ) ) as Max_RelationshipCount')\n",
    "\n",
    "result_query=[]\n",
    "for i in high_group_query:\n",
    "    result_query.append(i)\n",
    "    \n",
    "df=pd.DataFrame(result_query)\n",
    "df.columns=['sample','cells_count','Avg_RelationshipCount','Min_RelationshipCount','Max_RelationshipCount']\n",
    "df['label']=1\n",
    "\n",
    "low_group_query=graph.run('MATCH (n {inmune039:0})'\n",
    "          'RETURN DISTINCT n.sample, '\n",
    "          'count(*) AS SampleSize,'\n",
    "          'avg(size( (n)-[]-() ) ) as Avg_RelationshipCount,'\n",
    "          'min(size( (n)-[]-() ) ) as Min_RelationshipCount,'\n",
    "          'max(size( (n)-[]-() ) ) as Max_RelationshipCount')\n",
    "result_query=[]\n",
    "for i in low_group_query:\n",
    "    result_query.append(i)\n",
    "    \n",
    "temp_df=pd.DataFrame(result_query)\n",
    "\n",
    "temp_df.columns=['sample','cells_count','Avg_RelationshipCount','Min_RelationshipCount','Max_RelationshipCount']\n",
    "temp_df['label']=0\n",
    "df=df.append(temp_df, ignore_index=True)\n",
    "\n",
    "df\n"
   ]
  },
  {
   "cell_type": "markdown",
   "id": "right-berkeley",
   "metadata": {},
   "source": [
    "### count number of each type cells for each slide"
   ]
  },
  {
   "cell_type": "code",
   "execution_count": 19,
   "id": "partial-colleague",
   "metadata": {},
   "outputs": [
    {
     "name": "stdout",
     "output_type": "stream",
     "text": [
      "type of cell: misc\n",
      "type of cell: lymph\n",
      "type of cell: tumor\n",
      "type of cell: stroma\n"
     ]
    }
   ],
   "source": [
    "cells=['misc','lymph','tumor','stroma']\n",
    "for cell in cells:\n",
    "    \n",
    "    print('type of cell: '+cell)\n",
    "    query=graph.run('MATCH (n:'+cell+')'\n",
    "                  'RETURN DISTINCT n.sample, '\n",
    "                  'count(*) AS SampleSize')\n",
    "    \n",
    "    result_query=[]\n",
    "    for i in query:\n",
    "        result_query.append(i)\n",
    " \n",
    "    df=pd.DataFrame(result_query)\n",
    "\n",
    "    df.columns=['sample','count']\n",
    "\n",
    "\n",
    "    globals()[cell +\"_count_dic\"] =pd.Series(df['count'].values,index=df['sample']).to_dict()\n",
    "\n",
    "\n",
    "    "
   ]
  },
  {
   "cell_type": "markdown",
   "id": "recovered-guide",
   "metadata": {},
   "source": [
    "### analysing volume of cell populations for the high and low immune groups"
   ]
  },
  {
   "cell_type": "code",
   "execution_count": 108,
   "id": "appointed-fetish",
   "metadata": {
    "scrolled": false
   },
   "outputs": [
    {
     "name": "stdout",
     "output_type": "stream",
     "text": [
      "*************** misc\n",
      "count_corrected\n",
      "mean_cluster0 0.6752641806799978\n",
      "mean_cluster1 0.6849966552144475\n"
     ]
    },
    {
     "data": {
      "image/png": "[encoded data removed]",
      "text/plain": [
       "<Figure size 432x288 with 1 Axes>"
      ]
     },
     "metadata": {
      "needs_background": "light"
     },
     "output_type": "display_data"
    },
    {
     "name": "stdout",
     "output_type": "stream",
     "text": [
      "*************** lymph\n",
      "count_corrected\n",
      "mean_cluster0 0.06116181615187815\n",
      "mean_cluster1 0.06191466293002735\n"
     ]
    },
    {
     "data": {
      "image/png": "[encoded data removed]",
      "text/plain": [
       "<Figure size 432x288 with 1 Axes>"
      ]
     },
     "metadata": {
      "needs_background": "light"
     },
     "output_type": "display_data"
    },
    {
     "name": "stdout",
     "output_type": "stream",
     "text": [
      "*************** tumor\n",
      "count_corrected\n",
      "mean_cluster0 0.1799420947680475\n",
      "mean_cluster1 0.1479061350328562\n"
     ]
    },
    {
     "data": {
      "image/png": "[encoded data removed]",
      "text/plain": [
       "<Figure size 432x288 with 1 Axes>"
      ]
     },
     "metadata": {
      "needs_background": "light"
     },
     "output_type": "display_data"
    },
    {
     "name": "stdout",
     "output_type": "stream",
     "text": [
      "*************** stroma\n",
      "count_corrected\n",
      "mean_cluster0 0.09112949568207851\n",
      "mean_cluster1 0.11164020508056575\n"
     ]
    },
    {
     "data": {
      "image/png": "[encoded data removed]",
      "text/plain": [
       "<Figure size 432x288 with 1 Axes>"
      ]
     },
     "metadata": {
      "needs_background": "light"
     },
     "output_type": "display_data"
    }
   ],
   "source": [
    "cells=['misc','lymph','tumor','stroma']\n",
    "for c,cell in enumerate(cells):\n",
    "    \n",
    "    print('*************** '+cell)\n",
    "\n",
    "    high_group_query=graph.run('MATCH (n:'+cell+' {inmune039:1})'\n",
    "              'RETURN DISTINCT n.sample, '\n",
    "              'count(*) AS SampleSize,'\n",
    "              'avg(size( (n)-[]-() ) ) as Avg_RelationshipCount,'\n",
    "              'min(size( (n)-[]-() ) ) as Min_RelationshipCount,'\n",
    "              'max(size( (n)-[]-() ) ) as Max_RelationshipCount')\n",
    "\n",
    "    result_query=[]\n",
    "    for i in high_group_query:\n",
    "        result_query.append(i)\n",
    "        \n",
    "\n",
    "    df=pd.DataFrame(result_query)\n",
    "    df.columns=['sample','count','Avg_RelationshipCount','Min_RelationshipCount','Max_RelationshipCount']\n",
    "    df['immune_score']=1\n",
    "\n",
    "\n",
    "\n",
    "\n",
    "    low_group_query=graph.run('MATCH (n:'+cell+' {inmune039:0})'\n",
    "              'RETURN DISTINCT n.sample, '\n",
    "              'count(*) AS SampleSize,'\n",
    "              'avg(size( (n)-[]-() ) ) as Avg_RelationshipCount,'\n",
    "              'min(size( (n)-[]-() ) ) as Min_RelationshipCount,'\n",
    "              'max(size( (n)-[]-() ) ) as Max_RelationshipCount')\n",
    "    result_query=[]\n",
    "    for i in low_group_query:\n",
    "        result_query.append(i)\n",
    "    \n",
    "    temp_df=pd.DataFrame(result_query)\n",
    "\n",
    "    temp_df.columns=['sample','count','Avg_RelationshipCount','Min_RelationshipCount','Max_RelationshipCount']\n",
    "    temp_df['immune_score']=0\n",
    "    df=df.append(temp_df, ignore_index=True)\n",
    "    \n",
    "    \n",
    "    df['count_corrected']=df['count']/( df['sample'].map(cell_count_dic))\n",
    "  \n",
    "  \n",
    "\n",
    "\n",
    "    features=['count_corrected']\n",
    "    for i,feature in enumerate(features):\n",
    "        \n",
    "        # Mann Whitneyu test\n",
    "        z, p = scipy.stats.mannwhitneyu(df[feature][df[\"immune_score\"]==0].values, df[feature][df[\"immune_score\"]==1].values)\n",
    "\n",
    "        mean_cluster0=np.mean(df[feature][df[\"immune_score\"]==0].values)\n",
    "        mean_cluster1=np.mean(df[feature][df[\"immune_score\"]==1].values)\n",
    "\n",
    "        print(features[i])\n",
    "        print('mean_cluster0 '+str(mean_cluster0))\n",
    "        print('mean_cluster1 '+str(mean_cluster1))\n",
    "\n",
    "        # Z-test\n",
    "        ztest ,pval1 = stests.ztest(df[feature][df[\"immune_score\"]==0].values, df[feature][df[\"immune_score\"]==1].values,value=0,alternative='two-sided')\n",
    "\n",
    "        title=cell+\" cells \"+features[i]+\" Mannwhitneyu \"+stars(p)+\" Z-test: \"+stars(pval1)\n",
    "\n",
    "        ax = sns.boxplot(x=\"immune_score\",y=feature,data=df).set_title(title)\n",
    "        plt.show()\n",
    "        plt.close()\n",
    "\n",
    "\n",
    "\n",
    "\n",
    "    "
   ]
  },
  {
   "cell_type": "markdown",
   "id": "stone-petite",
   "metadata": {},
   "source": [
    "# count number of relations"
   ]
  },
  {
   "cell_type": "markdown",
   "id": "permanent-functionality",
   "metadata": {},
   "source": [
    "### count number of total relations for each slide"
   ]
  },
  {
   "cell_type": "code",
   "execution_count": 89,
   "id": "imported-institution",
   "metadata": {},
   "outputs": [
    {
     "data": {
      "text/plain": [
       "Text(0, 0.5, 'Frequency')"
      ]
     },
     "execution_count": 89,
     "metadata": {},
     "output_type": "execute_result"
    },
    {
     "data": {
      "image/png": "[encoded data removed]",
      "text/plain": [
       "<Figure size 432x288 with 1 Axes>"
      ]
     },
     "metadata": {
      "needs_background": "light"
     },
     "output_type": "display_data"
    }
   ],
   "source": [
    "query=graph.run('MATCH (n)-[]->()  '\n",
    "                   'RETURN  DISTINCT n.sample, '\n",
    "              'count(*) AS count')\n",
    "\n",
    "\n",
    "result_query=[]\n",
    "for i in query:\n",
    "    result_query.append(i)\n",
    " \n",
    "df=pd.DataFrame(result_query)\n",
    "\n",
    "df.columns=['sample','count']\n",
    "relation_count_dic=pd.Series(df['count'].values,index=df['sample']).to_dict()\n",
    "\n",
    "plt.hist(df['count'].values, bins = 20)\n",
    "plt.xlabel('number of relations by WSI')\n",
    "plt.ylabel('Frequency')"
   ]
  },
  {
   "cell_type": "markdown",
   "id": "unauthorized-portrait",
   "metadata": {},
   "source": [
    "### count number of each type of relations for each slide"
   ]
  },
  {
   "cell_type": "code",
   "execution_count": 28,
   "id": "impressed-marble",
   "metadata": {},
   "outputs": [
    {
     "name": "stdout",
     "output_type": "stream",
     "text": [
      "type of relation: misc-misc\n",
      "type of relation: tumor-tumor\n",
      "type of relation: stroma-stroma\n",
      "type of relation: misc-tumor\n",
      "type of relation: misc-lymph\n",
      "type of relation: lymph-lymph\n",
      "type of relation: misc-stroma\n",
      "type of relation: lymph-stroma\n",
      "type of relation: lymph-tumor\n",
      "type of relation: stroma-tumor\n"
     ]
    }
   ],
   "source": [
    "relations=['misc-misc',\n",
    "'tumor-tumor',\n",
    "'stroma-stroma',\n",
    "'misc-tumor',\n",
    "'misc-lymph',\n",
    "'lymph-lymph',\n",
    "'misc-stroma',\n",
    "'lymph-stroma',\n",
    "'lymph-tumor',\n",
    "'stroma-tumor']\n",
    "for relation in relations:\n",
    "    \n",
    "    print('type of relation: '+relation)\n",
    "    query=graph.run('MATCH (n )-[r:`'+relation+'`]->()  '\n",
    "                   'RETURN  DISTINCT n.sample, '\n",
    "              'count(*) AS count')\n",
    "    \n",
    "    \n",
    "    result_query=[]\n",
    "    for i in query:\n",
    "        result_query.append(i)\n",
    "    \n",
    "    df=pd.DataFrame(result_query)\n",
    "\n",
    "    df.columns=['sample','count']\n",
    "\n",
    "\n",
    "    globals()[relation +\"_count_dic\"] =pd.Series(df['count'].values,index=df['sample']).to_dict()\n"
   ]
  },
  {
   "cell_type": "markdown",
   "id": "apparent-newman",
   "metadata": {},
   "source": [
    "### analysing volume of relations populations for the high and low immune groups"
   ]
  },
  {
   "cell_type": "code",
   "execution_count": 107,
   "id": "progressive-vacation",
   "metadata": {
    "scrolled": false
   },
   "outputs": [
    {
     "name": "stdout",
     "output_type": "stream",
     "text": [
      "*************** misc-tumor\n",
      "count_corrected\n",
      "mean_cluster0 0.6053777146857611\n",
      "mean_cluster1 0.6513352540963483\n"
     ]
    },
    {
     "data": {
      "image/png": "[encoded data removed]",
      "text/plain": [
       "<Figure size 432x288 with 1 Axes>"
      ]
     },
     "metadata": {
      "needs_background": "light"
     },
     "output_type": "display_data"
    },
    {
     "name": "stdout",
     "output_type": "stream",
     "text": [
      "*************** misc-lymph\n",
      "count_corrected\n",
      "mean_cluster0 0.46951748387547987\n",
      "mean_cluster1 0.5245032399992706\n"
     ]
    },
    {
     "data": {
      "image/png": "[encoded data removed]",
      "text/plain": [
       "<Figure size 432x288 with 1 Axes>"
      ]
     },
     "metadata": {
      "needs_background": "light"
     },
     "output_type": "display_data"
    },
    {
     "name": "stdout",
     "output_type": "stream",
     "text": [
      "*************** misc-stroma\n",
      "count_corrected\n",
      "mean_cluster0 0.5451596289692335\n",
      "mean_cluster1 0.5953264498566416\n"
     ]
    },
    {
     "data": {
      "image/png": "[encoded data removed]",
      "text/plain": [
       "<Figure size 432x288 with 1 Axes>"
      ]
     },
     "metadata": {
      "needs_background": "light"
     },
     "output_type": "display_data"
    },
    {
     "name": "stdout",
     "output_type": "stream",
     "text": [
      "*************** lymph-stroma\n",
      "count_corrected\n",
      "mean_cluster0 0.5732908577025223\n",
      "mean_cluster1 0.6045900914778085\n"
     ]
    },
    {
     "data": {
      "image/png": "[encoded data removed]",
      "text/plain": [
       "<Figure size 432x288 with 1 Axes>"
      ]
     },
     "metadata": {
      "needs_background": "light"
     },
     "output_type": "display_data"
    },
    {
     "name": "stdout",
     "output_type": "stream",
     "text": [
      "*************** lymph-tumor\n",
      "count_corrected\n",
      "mean_cluster0 0.7185649330746062\n",
      "mean_cluster1 0.8078936341746655\n"
     ]
    },
    {
     "data": {
      "image/png": "[encoded data removed]",
      "text/plain": [
       "<Figure size 432x288 with 1 Axes>"
      ]
     },
     "metadata": {
      "needs_background": "light"
     },
     "output_type": "display_data"
    },
    {
     "name": "stdout",
     "output_type": "stream",
     "text": [
      "*************** stroma-tumor\n",
      "count_corrected\n",
      "mean_cluster0 0.6566466562980212\n",
      "mean_cluster1 0.7107489769694533\n"
     ]
    },
    {
     "data": {
      "image/png": "[encoded data removed]",
      "text/plain": [
       "<Figure size 432x288 with 1 Axes>"
      ]
     },
     "metadata": {
      "needs_background": "light"
     },
     "output_type": "display_data"
    }
   ],
   "source": [
    "\n",
    "\n",
    "relations=[\n",
    "'misc-tumor',\n",
    "'misc-lymph',\n",
    "'misc-stroma',\n",
    "'lymph-stroma',\n",
    "'lymph-tumor',\n",
    "'stroma-tumor']\n",
    "\n",
    "\n",
    "for relation in relations:\n",
    "    cell1=relation.split('-')[0]\n",
    "    cell2=relation.split('-')[1]\n",
    "    \n",
    "    print('*************** '+relation)\n",
    "\n",
    "    high_group_query=graph.run('MATCH (n:'+cell1+' {inmune039:1})-[r:`'+relation+'`]->(b:'+cell2+' {inmune039:1})  '\n",
    "                'RETURN  DISTINCT n.sample, '\n",
    "                'count(*) AS count')\n",
    "\n",
    "    result_query=[]\n",
    "    for i in high_group_query:\n",
    "        result_query.append(i)\n",
    "        \n",
    "\n",
    "    df=pd.DataFrame(result_query)\n",
    "    df.columns=['sample','count']\n",
    "    df['immune_score']=1\n",
    "\n",
    "\n",
    "    \n",
    "\n",
    "    low_group_query=graph.run('MATCH (n:'+cell1+' {inmune039:0})-[r:`'+relation+'`]->(b:'+cell2+' {inmune039:0})  '\n",
    "                   'RETURN  DISTINCT n.sample, '\n",
    "              'count(*) AS count')\n",
    "    result_query=[]\n",
    "    for i in low_group_query:\n",
    "\n",
    "        result_query.append(i)\n",
    "        #print(i)\n",
    "    temp_df=pd.DataFrame(result_query)\n",
    "\n",
    "    temp_df.columns=['sample','count']\n",
    "    temp_df['immune_score']=0\n",
    "    df=df.append(temp_df, ignore_index=True)\n",
    "   \n",
    "    df['count_corrected']=df['count']/( df['sample'].map(globals()[relation+'_count_dic']))\n",
    "\n",
    "\n",
    "    features=['count_corrected']\n",
    "    for i,feature in enumerate(features):\n",
    "        \n",
    "        # Mann Whitneyu test\n",
    "        z, p = scipy.stats.mannwhitneyu(df[feature][df[\"immune_score\"]==0].values, df[feature][df[\"immune_score\"]==1].values)\n",
    "\n",
    "        mean_cluster0=np.mean(df[feature][df[\"immune_score\"]==0].values)\n",
    "        mean_cluster1=np.mean(df[feature][df[\"immune_score\"]==1].values)\n",
    "\n",
    "        print(features[i])\n",
    "        print('mean_cluster0 '+str(mean_cluster0))\n",
    "        print('mean_cluster1 '+str(mean_cluster1))\n",
    "\n",
    "        # Z-test\n",
    "        ztest ,pval1 = stests.ztest(df[feature][df[\"immune_score\"]==0].values, df[feature][df[\"immune_score\"]==1].values,value=0,alternative='two-sided')\n",
    "\n",
    "        title=relation+\" relations \"+features[i]+\" Mannwhitneyu \"+stars(p)+\" Z-test: \"+stars(pval1)\n",
    "\n",
    "        ax = sns.boxplot(x=\"immune_score\",y=feature,data=df).set_title(title)\n",
    "        plt.show()\n",
    "        plt.close()\n",
    "\n",
    "\n",
    "\n",
    "\n",
    "     \n",
    "\n",
    "\n",
    "\n",
    "\n",
    "    "
   ]
  },
  {
   "cell_type": "markdown",
   "id": "hired-filename",
   "metadata": {},
   "source": [
    "# count number cells without relations"
   ]
  },
  {
   "cell_type": "code",
   "execution_count": 106,
   "id": "enormous-remains",
   "metadata": {
    "scrolled": false
   },
   "outputs": [
    {
     "name": "stdout",
     "output_type": "stream",
     "text": [
      "type of cell: misc\n",
      "count_corrected\n",
      "mean_cluster0 0.31948996396115276\n",
      "mean_cluster1 0.2779246023022281\n"
     ]
    },
    {
     "data": {
      "image/png": "[encoded data removed]",
      "text/plain": [
       "<Figure size 432x288 with 1 Axes>"
      ]
     },
     "metadata": {
      "needs_background": "light"
     },
     "output_type": "display_data"
    },
    {
     "name": "stdout",
     "output_type": "stream",
     "text": [
      "type of cell: lymph\n",
      "count_corrected\n",
      "mean_cluster0 0.009263073434625761\n",
      "mean_cluster1 0.016570444131635945\n"
     ]
    },
    {
     "data": {
      "image/png": "[encoded data removed]",
      "text/plain": [
       "<Figure size 432x288 with 1 Axes>"
      ]
     },
     "metadata": {
      "needs_background": "light"
     },
     "output_type": "display_data"
    },
    {
     "name": "stdout",
     "output_type": "stream",
     "text": [
      "type of cell: tumor\n",
      "count_corrected\n",
      "mean_cluster0 0.014418660429508403\n",
      "mean_cluster1 0.009956906036777702\n"
     ]
    },
    {
     "data": {
      "image/png": "[encoded data removed]",
      "text/plain": [
       "<Figure size 432x288 with 1 Axes>"
      ]
     },
     "metadata": {
      "needs_background": "light"
     },
     "output_type": "display_data"
    },
    {
     "name": "stdout",
     "output_type": "stream",
     "text": [
      "type of cell: stroma\n",
      "count_corrected\n",
      "mean_cluster0 0.016938710530367634\n",
      "mean_cluster1 0.03230271897068709\n"
     ]
    },
    {
     "data": {
      "image/png": "[encoded data removed]",
      "text/plain": [
       "<Figure size 432x288 with 1 Axes>"
      ]
     },
     "metadata": {
      "needs_background": "light"
     },
     "output_type": "display_data"
    }
   ],
   "source": [
    "cells=['misc','lymph','tumor','stroma']\n",
    "for cell in cells:\n",
    "    \n",
    "    print('type of cell: '+cell)\n",
    "    high_group_query=graph.run('MATCH (n:'+cell+' {inmune039:1}) WHERE NOT (n)--()'\n",
    "              'RETURN DISTINCT n.sample, '\n",
    "              'count(*) AS SampleSize')\n",
    "\n",
    "    result_query=[]\n",
    "    for i in high_group_query:\n",
    "        result_query.append(i)\n",
    "\n",
    "\n",
    "    df=pd.DataFrame(result_query)\n",
    "\n",
    "    df.columns=['sample','count']\n",
    "    df['immune_score']=1\n",
    "\n",
    "    \n",
    "\n",
    "\n",
    "    low_group_query=graph.run('MATCH (n:'+cell+' {inmune039:0}) WHERE NOT (n)--()'\n",
    "              'RETURN DISTINCT n.sample, '\n",
    "              'count(*) AS SampleSize')\n",
    "    result_query=[]\n",
    "    for i in low_group_query:\n",
    "        result_query.append(i)\n",
    "    \n",
    "    temp_df=pd.DataFrame(result_query)\n",
    "\n",
    "    temp_df.columns=['sample','count']\n",
    "    temp_df['immune_score']=0\n",
    "    df=df.append(temp_df, ignore_index=True)\n",
    "    \n",
    "    \n",
    "    \n",
    "    df['count_corrected']=df['count']/( df['sample'].map(relation_count_dic))\n",
    "\n",
    "    Mannwhitneyu_values=[]\n",
    "    Ztest_values=[]\n",
    "\n",
    "\n",
    "    features=['count_corrected']\n",
    "    for i,feature in enumerate(features):\n",
    "        \n",
    "        # Mann Whitneyu test\n",
    "        z, p = scipy.stats.mannwhitneyu(df[feature][df[\"immune_score\"]==0].values, df[feature][df[\"immune_score\"]==1].values)\n",
    "\n",
    "        mean_cluster0=np.mean(df[feature][df[\"immune_score\"]==0].values)\n",
    "        mean_cluster1=np.mean(df[feature][df[\"immune_score\"]==1].values)\n",
    "\n",
    "        print(features[i])\n",
    "        print('mean_cluster0 '+str(mean_cluster0))\n",
    "        print('mean_cluster1 '+str(mean_cluster1))\n",
    "\n",
    "        # Z-test\n",
    "        ztest ,pval1 = stests.ztest(df[feature][df[\"immune_score\"]==0].values, df[feature][df[\"immune_score\"]==1].values,value=0,alternative='two-sided')\n",
    "\n",
    "        title=\"isolated \"+cell+\" \"+features[i]+\" Mannwhitneyu \"+stars(p)+\" Z-test: \"+stars(pval1)\n",
    "\n",
    "        ax = sns.boxplot(x=\"immune_score\",y=feature,data=df).set_title(title)\n",
    "        plt.show()\n",
    "        plt.close()\n",
    "\n",
    "\n",
    "\n",
    "\n",
    "    "
   ]
  },
  {
   "cell_type": "markdown",
   "id": "careful-manhattan",
   "metadata": {},
   "source": [
    "# analysing stroma barriers"
   ]
  },
  {
   "cell_type": "code",
   "execution_count": 105,
   "id": "editorial-bookmark",
   "metadata": {},
   "outputs": [
    {
     "name": "stdout",
     "output_type": "stream",
     "text": [
      "count_corrected\n",
      "mean_cluster0 0.005307361582971188\n",
      "mean_cluster1 0.0029659190649063065\n"
     ]
    },
    {
     "data": {
      "image/png": "[encoded data removed]",
      "text/plain": [
       "<Figure size 432x288 with 1 Axes>"
      ]
     },
     "metadata": {
      "needs_background": "light"
     },
     "output_type": "display_data"
    },
    {
     "name": "stdout",
     "output_type": "stream",
     "text": [
      "count\n",
      "mean_cluster0 130.0\n",
      "mean_cluster1 50.735849056603776\n"
     ]
    },
    {
     "data": {
      "image/png": "[encoded data removed]",
      "text/plain": [
       "<Figure size 432x288 with 1 Axes>"
      ]
     },
     "metadata": {
      "needs_background": "light"
     },
     "output_type": "display_data"
    }
   ],
   "source": [
    "\n",
    "    \n",
    "\n",
    "\n",
    "high_group_query=graph.run('MATCH (a:lymph {inmune039:1})-[r:`lymph-stroma`]->(b:stroma)-[s:`stroma-tumor`]-(c:tumor)'\n",
    "          'RETURN DISTINCT a.sample, '\n",
    "          'count(*) AS SampleSize')\n",
    "\n",
    "\n",
    "result_query=[]\n",
    "for i in high_group_query:\n",
    "    result_query.append(i)\n",
    "    \n",
    "\n",
    "df=pd.DataFrame(result_query)\n",
    "\n",
    "df.columns=['sample','count']\n",
    "df['immune_score']=1\n",
    "\n",
    "\n",
    "\n",
    "\n",
    "low_group_query=graph.run('MATCH (a:lymph {inmune039:0})-[r:`lymph-stroma`]->(b:stroma)-[s:`stroma-tumor`]-(c:tumor)'\n",
    "          'RETURN DISTINCT a.sample, '\n",
    "          'count(*) AS SampleSize')\n",
    "result_query=[]\n",
    "for i in low_group_query:\n",
    "    result_query.append(i)\n",
    "\n",
    "temp_df=pd.DataFrame(result_query)\n",
    "\n",
    "temp_df.columns=['sample','count']\n",
    "temp_df['immune_score']=0\n",
    "df=df.append(temp_df, ignore_index=True)\n",
    "\n",
    "df['count_corrected']=df['count']/(df['sample'].map(stroma_count_dic)+df['sample'].map(tumor_count_dic)+df['sample'].map(lymph_count_dic))\n",
    "\n",
    "\n",
    "Mannwhitneyu_values=[]\n",
    "Ztest_values=[]\n",
    "\n",
    "\n",
    "features=['count_corrected','count']\n",
    "for i,feature in enumerate(features):\n",
    "\n",
    "    # Mann Whitneyu test\n",
    "    z, p = scipy.stats.mannwhitneyu(df[feature][df[\"immune_score\"]==0].values, df[feature][df[\"immune_score\"]==1].values)\n",
    "\n",
    "    mean_cluster0=np.mean(df[feature][df[\"immune_score\"]==0].values)\n",
    "    mean_cluster1=np.mean(df[feature][df[\"immune_score\"]==1].values)\n",
    "\n",
    "    print(features[i])\n",
    "    print('mean_cluster0 '+str(mean_cluster0))\n",
    "    print('mean_cluster1 '+str(mean_cluster1))\n",
    "\n",
    "    # Z-test\n",
    "    ztest ,pval1 = stests.ztest(df[feature][df[\"immune_score\"]==0].values, df[feature][df[\"immune_score\"]==1].values,value=0,alternative='two-sided')\n",
    "\n",
    "    title=\"Stroma barriers count:  Mannwhitneyu \"+stars(p)+\" Z-test: \"+stars(pval1)\n",
    "\n",
    "    ax = sns.boxplot(x=\"immune_score\",y=feature,data=df).set_title(title)\n",
    "    plt.show()\n",
    "    plt.close()\n",
    "\n",
    "\n",
    "\n",
    "\n",
    "    "
   ]
  },
  {
   "cell_type": "markdown",
   "id": "spare-discussion",
   "metadata": {},
   "source": [
    "# Analysing lymphocites triplets"
   ]
  },
  {
   "cell_type": "code",
   "execution_count": 104,
   "id": "mediterranean-strength",
   "metadata": {},
   "outputs": [
    {
     "name": "stdout",
     "output_type": "stream",
     "text": [
      "count_corrected\n",
      "mean_cluster0 1.372779883094045\n",
      "mean_cluster1 0.8979259225235872\n"
     ]
    },
    {
     "data": {
      "image/png": "[encoded data removed]",
      "text/plain": [
       "<Figure size 432x288 with 1 Axes>"
      ]
     },
     "metadata": {
      "needs_background": "light"
     },
     "output_type": "display_data"
    }
   ],
   "source": [
    "\n",
    "    \n",
    "\n",
    "\n",
    "high_group_query=graph.run('MATCH (a:lymph{inmune039:1} )-[r:`lymph-lymph`]->(b:lymph{inmune039:1})-[s:`lymph-lymph`]-(c:lymph{inmune039:1})'\n",
    "          'RETURN DISTINCT a.sample, '\n",
    "          'count(*) AS SampleSize')\n",
    "\n",
    "\n",
    "result_query=[]\n",
    "for i in high_group_query:\n",
    "    result_query.append(i)\n",
    "\n",
    "\n",
    "df=pd.DataFrame(result_query)\n",
    "\n",
    "df.columns=['sample','count']\n",
    "df['immune_score']=1\n",
    "\n",
    "\n",
    "\n",
    "\n",
    "low_group_query=graph.run('MATCH (a:lymph {inmune039:0})-[r:`lymph-lymph`]->(b:lymph{inmune039:0})-[s:`lymph-lymph`]-(c:lymph{inmune039:0})'\n",
    "          'RETURN DISTINCT a.sample, '\n",
    "          'count(*) AS SampleSize')\n",
    "result_query=[]\n",
    "for i in low_group_query:\n",
    "    result_query.append(i)\n",
    " \n",
    "temp_df=pd.DataFrame(result_query)\n",
    "\n",
    "temp_df.columns=['sample','count']\n",
    "temp_df['immune_score']=0\n",
    "df=df.append(temp_df, ignore_index=True)\n",
    "\n",
    "\n",
    "relation1=\"lymph-lymph\"\n",
    "relation2=\"stroma-tumor\"\n",
    "\n",
    "\n",
    "df['count_corrected']=df['count']/(df['sample'].map(globals()[relation1 +\"_count_dic\"]))\n",
    "\n",
    "\n",
    "features=['count_corrected']\n",
    "for i,feature in enumerate(features):\n",
    "\n",
    "    # Mann Whitneyu test\n",
    "    z, p = scipy.stats.mannwhitneyu(df[feature][df[\"immune_score\"]==0].values, df[feature][df[\"immune_score\"]==1].values)\n",
    "\n",
    "    mean_cluster0=np.mean(df[feature][df[\"immune_score\"]==0].values)\n",
    "    mean_cluster1=np.mean(df[feature][df[\"immune_score\"]==1].values)\n",
    "\n",
    "    print(features[i])\n",
    "    print('mean_cluster0 '+str(mean_cluster0))\n",
    "    print('mean_cluster1 '+str(mean_cluster1))\n",
    "\n",
    "    # Z-test\n",
    "    ztest ,pval1 = stests.ztest(df[feature][df[\"immune_score\"]==0].values, df[feature][df[\"immune_score\"]==1].values,value=0,alternative='two-sided')\n",
    "\n",
    "    title=\"Lymphocite triplets  Mannwhitneyu \"+stars(p)+\" Z-test: \"+stars(pval1)\n",
    "\n",
    "    ax = sns.boxplot(x=\"immune_score\",y=feature,data=df).set_title(title)\n",
    "    plt.show()\n",
    "    plt.close()\n",
    "\n",
    "\n",
    "    "
   ]
  },
  {
   "cell_type": "markdown",
   "id": "genetic-anxiety",
   "metadata": {},
   "source": [
    "# Analysing stroma triplets"
   ]
  },
  {
   "cell_type": "code",
   "execution_count": 103,
   "id": "artistic-mainland",
   "metadata": {},
   "outputs": [
    {
     "name": "stdout",
     "output_type": "stream",
     "text": [
      "count_corrected\n",
      "mean_cluster0 0.39073236529505256\n",
      "mean_cluster1 0.3165738893620386\n"
     ]
    },
    {
     "data": {
      "image/png": "[encoded data removed]",
      "text/plain": [
       "<Figure size 432x288 with 1 Axes>"
      ]
     },
     "metadata": {
      "needs_background": "light"
     },
     "output_type": "display_data"
    }
   ],
   "source": [
    "\n",
    "    \n",
    "\n",
    "\n",
    "low_group_query=graph.run('MATCH (a:stroma {inmune039:1})-[r:`stroma-stroma`]->(b:stroma)-[s:`stroma-stroma`]->(c:stroma)'\n",
    "          'RETURN DISTINCT a.sample, '\n",
    "          'count(*) AS SampleSize')\n",
    "\n",
    "\n",
    "result_query=[]\n",
    "for i in low_group_query:\n",
    "    result_query.append(i)\n",
    "    #print(i)\n",
    "\n",
    "df=pd.DataFrame(result_query)\n",
    "\n",
    "df.columns=['sample','count']\n",
    "df['immune_score']=1\n",
    "\n",
    "\n",
    "\n",
    "\n",
    "low_group_query=graph.run('MATCH (a:stroma {inmune039:0})-[r:`stroma-stroma`]->(b:stroma)-[s:`stroma-stroma`]->(c:stroma)'\n",
    "          'RETURN DISTINCT a.sample, '\n",
    "          'count(*) AS SampleSize')\n",
    "result_query=[]\n",
    "for i in low_group_query:\n",
    "\n",
    "    result_query.append(i)\n",
    "    #print(i)\n",
    "temp=pd.DataFrame(result_query)\n",
    "\n",
    "temp.columns=['sample','count']\n",
    "temp['immune_score']=0\n",
    "df=df.append(temp, ignore_index=True)\n",
    "\n",
    "\n",
    "\n",
    "relation1=\"stroma-stroma\"\n",
    "df['count_corrected']=df['count']/(df['sample'].map(globals()[relation1 +\"_count_dic\"]))\n",
    "\n",
    "\n",
    "\n",
    "\n",
    "features=['count_corrected']\n",
    "for i,feature in enumerate(features):\n",
    "\n",
    "    # Mann Whitneyu test\n",
    "    z, p = scipy.stats.mannwhitneyu(df[feature][df[\"immune_score\"]==0].values, df[feature][df[\"immune_score\"]==1].values)\n",
    "\n",
    "    mean_cluster0=np.mean(df[feature][df[\"immune_score\"]==0].values)\n",
    "    mean_cluster1=np.mean(df[feature][df[\"immune_score\"]==1].values)\n",
    "\n",
    "    print(features[i])\n",
    "    print('mean_cluster0 '+str(mean_cluster0))\n",
    "    print('mean_cluster1 '+str(mean_cluster1))\n",
    "\n",
    "    # Z-test\n",
    "    ztest ,pval1 = stests.ztest(df[feature][df[\"immune_score\"]==0].values, df[feature][df[\"immune_score\"]==1].values,value=0,alternative='two-sided')\n",
    "\n",
    "    title=\"Stroma triplets Mannwhitneyu \"+stars(p)+\" Z-test: \"+stars(pval1)\n",
    "\n",
    "    ax = sns.boxplot(x=\"immune_score\",y=feature,data=df).set_title(title)\n",
    "    plt.show()\n",
    "    plt.close()\n"
   ]
  },
  {
   "cell_type": "code",
   "execution_count": null,
   "id": "employed-showcase",
   "metadata": {},
   "outputs": [],
   "source": []
  }
 ],
 "metadata": {
  "kernelspec": {
   "display_name": "Python 3",
   "language": "python",
   "name": "python3"
  },
  "language_info": {
   "codemirror_mode": {
    "name": "ipython",
    "version": 3
   },
   "file_extension": ".py",
   "mimetype": "text/x-python",
   "name": "python",
   "nbconvert_exporter": "python",
   "pygments_lexer": "ipython3",
   "version": "3.6.10"
  }
 },
 "nbformat": 4,
 "nbformat_minor": 5
}
